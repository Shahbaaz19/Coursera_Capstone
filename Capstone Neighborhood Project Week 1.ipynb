{
 "cells": [
  {
   "cell_type": "markdown",
   "metadata": {
    "collapsed": true
   },
   "source": [
    "# Capstone Project - The Battle of the Neighborhoods (Part 1)\n",
    "### Applied Data Science Capstone by IBM/Coursera"
   ]
  },
  {
   "cell_type": "markdown",
   "metadata": {},
   "source": [
    "## Table of contents\n",
    "* [Introduction: Business Problem](#introduction)\n",
    "* [Data](#data)"
   ]
  },
  {
   "cell_type": "markdown",
   "metadata": {},
   "source": [
    "\n",
    "\n",
    "## Introduction: Business Problem <a name=\"introduction\"></a>"
   ]
  },
  {
   "cell_type": "markdown",
   "metadata": {},
   "source": [
    "In this project we will try to find an optimal location for a restaurant. Specifically, this report will be targeted to stakeholders interested in opening an **Indian restaurant** in **New York**, USA.\n",
    "\n",
    "This report will try to answer questions such as: Should I place my restuarant in a place where there are a lot of other Indian Restaurants or in a place where there is none or should I try to find some kind of balance between these two extremes?\n",
    "\n",
    "We will use our data science powers to generate a few most promissing neighborhoods based on this criteria."
   ]
  },
  {
   "cell_type": "markdown",
   "metadata": {},
   "source": [
    "## Data <a name=\"data\"></a>"
   ]
  },
  {
   "cell_type": "markdown",
   "metadata": {},
   "source": [
    "Based on definition of our problem, factors that will influence our decission are:\n",
    "* find the high rating Indian restaurants in NY and identify them visually on a map\n",
    "* create several \"clusters\" of these Indian Restaurants to identfiy potential districts to choose from\n",
    "\n",
    "We should choose one from these business district and locate our restaurant in the center of it. The closer to the center, the high will be the rent. This is another choise that will be made by us referring to our budget.\n",
    "\n",
    "To simplify the problem, we will only use the geographic location to cluster the cafes.\n",
    "For this we will use the \"explore\" endpoint. The request url is \"https://api.foursquare.com/v2/venues/explore\" According to the document, in the request, we should pass following parameters: \"section=Indian restaurant\" and \"near=New York, NY\". In the response, we are interested in groups.items.categories, groups.items.venue.name, group.items.venue.location. To simplify the problem, we will only use the geographic location to cluster the restaurants.\n",
    "\n",
    "Following data sources will be needed to extract/generate the required information:\n",
    "* number of restaurants and their type and location in every neighborhood will be obtained using **Foursquare API**"
   ]
  }
 ],
 "metadata": {
  "kernelspec": {
   "display_name": "Python 3.5",
   "language": "python",
   "name": "python3"
  },
  "language_info": {
   "codemirror_mode": {
    "name": "ipython",
    "version": 3
   },
   "file_extension": ".py",
   "mimetype": "text/x-python",
   "name": "python",
   "nbconvert_exporter": "python",
   "pygments_lexer": "ipython3",
   "version": "3.5.5"
  }
 },
 "nbformat": 4,
 "nbformat_minor": 1
}
